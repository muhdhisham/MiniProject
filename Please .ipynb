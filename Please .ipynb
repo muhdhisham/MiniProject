{
 "cells": [
  {
   "cell_type": "code",
   "execution_count": 50,
   "id": "5ea342ba",
   "metadata": {},
   "outputs": [],
   "source": [
    "import tensorflow as tf\n",
    "import keras\n",
    "import numpy as np\n",
    "import matplotlib.pyplot as plt\n",
    "import numpy as np"
   ]
  },
  {
   "cell_type": "code",
   "execution_count": 18,
   "id": "30648e5a",
   "metadata": {},
   "outputs": [],
   "source": [
    "dataset = np.load('train_data.npy',allow_pickle=True)"
   ]
  },
  {
   "cell_type": "code",
   "execution_count": 19,
   "id": "f7d0df9e",
   "metadata": {},
   "outputs": [],
   "source": [
    "labels = dataset[:,1]\n",
    "labels_lst = labels.tolist()"
   ]
  },
  {
   "cell_type": "code",
   "execution_count": 20,
   "id": "6726399e",
   "metadata": {},
   "outputs": [
    {
     "data": {
      "text/plain": [
       "<matplotlib.image.AxesImage at 0x28891164b50>"
      ]
     },
     "execution_count": 20,
     "metadata": {},
     "output_type": "execute_result"
    },
    {
     "data": {
      "image/png": "[encoded data removed]",
      "text/plain": [
       "<Figure size 432x288 with 1 Axes>"
      ]
     },
     "metadata": {
      "needs_background": "light"
     },
     "output_type": "display_data"
    }
   ],
   "source": [
    "plt.imshow(dataset[12533][0],cmap = plt.cm.binary)"
   ]
  },
  {
   "cell_type": "code",
   "execution_count": 21,
   "id": "7d47703a",
   "metadata": {},
   "outputs": [],
   "source": [
    "#dataset[img][img_label]"
   ]
  },
  {
   "cell_type": "code",
   "execution_count": 25,
   "id": "4b9351df",
   "metadata": {},
   "outputs": [
    {
     "data": {
      "text/plain": [
       "(12534, 2)"
      ]
     },
     "execution_count": 25,
     "metadata": {},
     "output_type": "execute_result"
    }
   ],
   "source": [
    "dataset.shape"
   ]
  },
  {
   "cell_type": "code",
   "execution_count": 28,
   "id": "da2e8383",
   "metadata": {},
   "outputs": [
    {
     "data": {
      "text/plain": [
       "(310, 310, 3)"
      ]
     },
     "execution_count": 28,
     "metadata": {},
     "output_type": "execute_result"
    }
   ],
   "source": [
    "dataset[12532][0].shape"
   ]
  },
  {
   "cell_type": "code",
   "execution_count": 22,
   "id": "bb412ff4",
   "metadata": {},
   "outputs": [
    {
     "data": {
      "text/plain": [
       "26"
      ]
     },
     "execution_count": 22,
     "metadata": {},
     "output_type": "execute_result"
    }
   ],
   "source": [
    "dataset[12533][1]"
   ]
  },
  {
   "cell_type": "code",
   "execution_count": 29,
   "id": "b57b0fef",
   "metadata": {},
   "outputs": [],
   "source": [
    "images = dataset[:,0]"
   ]
  },
  {
   "cell_type": "code",
   "execution_count": 41,
   "id": "d8268d06",
   "metadata": {},
   "outputs": [],
   "source": [
    "train_images = dataset[0:int(0.75*12534),0]\n",
    "train_labels = dataset[0:int(0.75*12534),1]"
   ]
  },
  {
   "cell_type": "code",
   "execution_count": 65,
   "id": "51a81eb8",
   "metadata": {},
   "outputs": [
    {
     "data": {
      "text/plain": [
       "(9400,)"
      ]
     },
     "execution_count": 65,
     "metadata": {},
     "output_type": "execute_result"
    }
   ],
   "source": [
    "train_images.shape\n",
    "             "
   ]
  },
  {
   "cell_type": "code",
   "execution_count": 44,
   "id": "a0eac505",
   "metadata": {},
   "outputs": [
    {
     "data": {
      "text/plain": [
       "(9400,)"
      ]
     },
     "execution_count": 44,
     "metadata": {},
     "output_type": "execute_result"
    }
   ],
   "source": [
    "train_labels.shape"
   ]
  },
  {
   "cell_type": "code",
   "execution_count": 43,
   "id": "bc091709",
   "metadata": {},
   "outputs": [],
   "source": [
    "test_images = images[int(0.75*12534):12533]"
   ]
  },
  {
   "cell_type": "code",
   "execution_count": 36,
   "id": "c4ac0827",
   "metadata": {},
   "outputs": [
    {
     "data": {
      "text/plain": [
       "(3133,)"
      ]
     },
     "execution_count": 36,
     "metadata": {},
     "output_type": "execute_result"
    }
   ],
   "source": [
    "test_images.shape"
   ]
  },
  {
   "cell_type": "code",
   "execution_count": 38,
   "id": "26e6a2df",
   "metadata": {},
   "outputs": [
    {
     "name": "stdout",
     "output_type": "stream",
     "text": [
      "12533\n"
     ]
    }
   ],
   "source": [
    "print(9400+3133)"
   ]
  },
  {
   "cell_type": "code",
   "execution_count": 63,
   "id": "ad33a0d4",
   "metadata": {},
   "outputs": [],
   "source": [
    "X_train = np.array([])"
   ]
  },
  {
   "cell_type": "code",
   "execution_count": 67,
   "id": "8af1ee97",
   "metadata": {},
   "outputs": [],
   "source": [
    "for i in range(len(train_images)):\n",
    "    X_train = [X_train, tf.convert_to_tensor(train_images[i])]"
   ]
  },
  {
   "cell_type": "code",
   "execution_count": null,
   "id": "07096aa1",
   "metadata": {},
   "outputs": [],
   "source": [
    "X_train.shape"
   ]
  },
  {
   "cell_type": "code",
   "execution_count": 24,
   "id": "757007c7",
   "metadata": {},
   "outputs": [],
   "source": [
    "model = keras.Sequential([\n",
    "    keras.layers.Flatten(input_shape=(28,28)),\n",
    "    keras.layers.Dense(128,activation=tf.nn.relu),\n",
    "    keras.layers.Dense(10,activation = tf.nn.softmax)\n",
    "])"
   ]
  },
  {
   "cell_type": "code",
   "execution_count": 40,
   "id": "df397b29",
   "metadata": {},
   "outputs": [],
   "source": [
    "model.compile(optimizer='adam',\n",
    "             loss = 'sparse_categorical_crossentropy',\n",
    "             metrics = ['accuracy'])"
   ]
  },
  {
   "cell_type": "code",
   "execution_count": 55,
   "id": "5e5c2d67",
   "metadata": {},
   "outputs": [
    {
     "ename": "NameError",
     "evalue": "name 'X_train' is not defined",
     "output_type": "error",
     "traceback": [
      "\u001b[1;31m---------------------------------------------------------------------------\u001b[0m",
      "\u001b[1;31mNameError\u001b[0m                                 Traceback (most recent call last)",
      "\u001b[1;32m~\\AppData\\Local\\Temp/ipykernel_17876/162751599.py\u001b[0m in \u001b[0;36m<module>\u001b[1;34m\u001b[0m\n\u001b[1;32m----> 1\u001b[1;33m \u001b[0mmodel\u001b[0m\u001b[1;33m.\u001b[0m\u001b[0mfit\u001b[0m\u001b[1;33m(\u001b[0m\u001b[0mX_train\u001b[0m\u001b[1;33m,\u001b[0m\u001b[0mtrain_labels\u001b[0m\u001b[1;33m,\u001b[0m\u001b[0mepochs\u001b[0m\u001b[1;33m=\u001b[0m\u001b[1;36m10\u001b[0m\u001b[1;33m)\u001b[0m\u001b[1;33m\u001b[0m\u001b[1;33m\u001b[0m\u001b[0m\n\u001b[0m",
      "\u001b[1;31mNameError\u001b[0m: name 'X_train' is not defined"
     ]
    }
   ],
   "source": [
    "model.fit(X_train,train_labels,epochs=10)"
   ]
  }
 ],
 "metadata": {
  "kernelspec": {
   "display_name": "Python 3 (ipykernel)",
   "language": "python",
   "name": "python3"
  },
  "language_info": {
   "codemirror_mode": {
    "name": "ipython",
    "version": 3
   },
   "file_extension": ".py",
   "mimetype": "text/x-python",
   "name": "python",
   "nbconvert_exporter": "python",
   "pygments_lexer": "ipython3",
   "version": "3.9.7"
  }
 },
 "nbformat": 4,
 "nbformat_minor": 5
}
